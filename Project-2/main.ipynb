{
 "cells": [
  {
   "cell_type": "code",
   "execution_count": 115,
   "id": "6f3b509a-278a-4930-896c-12669454a9d4",
   "metadata": {},
   "outputs": [],
   "source": [
    "import numpy as np\n",
    "import pandas as pd\n",
    "import matplotlib.pyplot as plt\n",
    "import seaborn as sns\n",
    "sns.set_theme(style=\"whitegrid\", palette=\"muted\")\n",
    "\n",
    "from sklearn.model_selection import train_test_split, RandomizedSearchCV\n",
    "from sklearn.tree import DecisionTreeClassifier\n",
    "from sklearn.naive_bayes import GaussianNB\n",
    "from sklearn.metrics import classification_report, confusion_matrix\n",
    "import shap"
   ]
  },
  {
   "cell_type": "code",
   "execution_count": 63,
   "id": "ea85497c-3b72-4b5b-93ed-be821717b6cb",
   "metadata": {},
   "outputs": [
    {
     "data": {
      "text/html": [
       "<div>\n",
       "<style scoped>\n",
       "    .dataframe tbody tr th:only-of-type {\n",
       "        vertical-align: middle;\n",
       "    }\n",
       "\n",
       "    .dataframe tbody tr th {\n",
       "        vertical-align: top;\n",
       "    }\n",
       "\n",
       "    .dataframe thead th {\n",
       "        text-align: right;\n",
       "    }\n",
       "</style>\n",
       "<table border=\"1\" class=\"dataframe\">\n",
       "  <thead>\n",
       "    <tr style=\"text-align: right;\">\n",
       "      <th></th>\n",
       "      <th>ID</th>\n",
       "      <th>Week2_Quiz1</th>\n",
       "      <th>Week3_MP1</th>\n",
       "      <th>Week3_PR1</th>\n",
       "      <th>Week5_MP2</th>\n",
       "      <th>Week5_PR2</th>\n",
       "      <th>Week7_MP3</th>\n",
       "      <th>Week7_PR3</th>\n",
       "      <th>Week4_Quiz2</th>\n",
       "      <th>Week6_Quiz3</th>\n",
       "      <th>...</th>\n",
       "      <th>Week7_Stat3</th>\n",
       "      <th>Week8_Stat0</th>\n",
       "      <th>Week8_Stat1</th>\n",
       "      <th>Week8_Stat2</th>\n",
       "      <th>Week8_Stat3</th>\n",
       "      <th>Week9_Stat0</th>\n",
       "      <th>Week9_Stat1</th>\n",
       "      <th>Week9_Stat2</th>\n",
       "      <th>Week9_Stat3</th>\n",
       "      <th>Grade</th>\n",
       "    </tr>\n",
       "  </thead>\n",
       "  <tbody>\n",
       "    <tr>\n",
       "      <th>26</th>\n",
       "      <td>ML-2020-37</td>\n",
       "      <td>4.17</td>\n",
       "      <td>11.0</td>\n",
       "      <td>5.0</td>\n",
       "      <td>16.52</td>\n",
       "      <td>5.0</td>\n",
       "      <td>3.18</td>\n",
       "      <td>5.0</td>\n",
       "      <td>5.0</td>\n",
       "      <td>5.0</td>\n",
       "      <td>...</td>\n",
       "      <td>0</td>\n",
       "      <td>6</td>\n",
       "      <td>0</td>\n",
       "      <td>0</td>\n",
       "      <td>0</td>\n",
       "      <td>6</td>\n",
       "      <td>2</td>\n",
       "      <td>0</td>\n",
       "      <td>0</td>\n",
       "      <td>2</td>\n",
       "    </tr>\n",
       "    <tr>\n",
       "      <th>66</th>\n",
       "      <td>ML-2020-90</td>\n",
       "      <td>1.67</td>\n",
       "      <td>12.0</td>\n",
       "      <td>5.0</td>\n",
       "      <td>16.09</td>\n",
       "      <td>5.0</td>\n",
       "      <td>32.61</td>\n",
       "      <td>5.0</td>\n",
       "      <td>5.0</td>\n",
       "      <td>5.0</td>\n",
       "      <td>...</td>\n",
       "      <td>0</td>\n",
       "      <td>5</td>\n",
       "      <td>2</td>\n",
       "      <td>0</td>\n",
       "      <td>0</td>\n",
       "      <td>0</td>\n",
       "      <td>0</td>\n",
       "      <td>0</td>\n",
       "      <td>0</td>\n",
       "      <td>4</td>\n",
       "    </tr>\n",
       "    <tr>\n",
       "      <th>68</th>\n",
       "      <td>ML-2020-92</td>\n",
       "      <td>4.17</td>\n",
       "      <td>0.0</td>\n",
       "      <td>0.0</td>\n",
       "      <td>0.00</td>\n",
       "      <td>0.0</td>\n",
       "      <td>0.00</td>\n",
       "      <td>0.0</td>\n",
       "      <td>0.0</td>\n",
       "      <td>0.0</td>\n",
       "      <td>...</td>\n",
       "      <td>0</td>\n",
       "      <td>0</td>\n",
       "      <td>0</td>\n",
       "      <td>0</td>\n",
       "      <td>0</td>\n",
       "      <td>3</td>\n",
       "      <td>0</td>\n",
       "      <td>0</td>\n",
       "      <td>0</td>\n",
       "      <td>0</td>\n",
       "    </tr>\n",
       "    <tr>\n",
       "      <th>78</th>\n",
       "      <td>ML-2020-74</td>\n",
       "      <td>0.00</td>\n",
       "      <td>0.0</td>\n",
       "      <td>0.0</td>\n",
       "      <td>0.00</td>\n",
       "      <td>0.0</td>\n",
       "      <td>0.00</td>\n",
       "      <td>0.0</td>\n",
       "      <td>0.0</td>\n",
       "      <td>0.0</td>\n",
       "      <td>...</td>\n",
       "      <td>0</td>\n",
       "      <td>0</td>\n",
       "      <td>0</td>\n",
       "      <td>0</td>\n",
       "      <td>0</td>\n",
       "      <td>0</td>\n",
       "      <td>0</td>\n",
       "      <td>0</td>\n",
       "      <td>0</td>\n",
       "      <td>0</td>\n",
       "    </tr>\n",
       "    <tr>\n",
       "      <th>102</th>\n",
       "      <td>ML-2020-60</td>\n",
       "      <td>0.00</td>\n",
       "      <td>0.0</td>\n",
       "      <td>0.0</td>\n",
       "      <td>0.00</td>\n",
       "      <td>0.0</td>\n",
       "      <td>0.00</td>\n",
       "      <td>0.0</td>\n",
       "      <td>0.0</td>\n",
       "      <td>0.0</td>\n",
       "      <td>...</td>\n",
       "      <td>0</td>\n",
       "      <td>28</td>\n",
       "      <td>0</td>\n",
       "      <td>22</td>\n",
       "      <td>0</td>\n",
       "      <td>1</td>\n",
       "      <td>0</td>\n",
       "      <td>0</td>\n",
       "      <td>0</td>\n",
       "      <td>0</td>\n",
       "    </tr>\n",
       "  </tbody>\n",
       "</table>\n",
       "<p>5 rows × 48 columns</p>\n",
       "</div>"
      ],
      "text/plain": [
       "             ID  Week2_Quiz1  Week3_MP1  Week3_PR1  Week5_MP2  Week5_PR2  \\\n",
       "26   ML-2020-37         4.17       11.0        5.0      16.52        5.0   \n",
       "66   ML-2020-90         1.67       12.0        5.0      16.09        5.0   \n",
       "68   ML-2020-92         4.17        0.0        0.0       0.00        0.0   \n",
       "78   ML-2020-74         0.00        0.0        0.0       0.00        0.0   \n",
       "102  ML-2020-60         0.00        0.0        0.0       0.00        0.0   \n",
       "\n",
       "     Week7_MP3  Week7_PR3  Week4_Quiz2  Week6_Quiz3  ...  Week7_Stat3  \\\n",
       "26        3.18        5.0          5.0          5.0  ...            0   \n",
       "66       32.61        5.0          5.0          5.0  ...            0   \n",
       "68        0.00        0.0          0.0          0.0  ...            0   \n",
       "78        0.00        0.0          0.0          0.0  ...            0   \n",
       "102       0.00        0.0          0.0          0.0  ...            0   \n",
       "\n",
       "     Week8_Stat0  Week8_Stat1  Week8_Stat2  Week8_Stat3  Week9_Stat0  \\\n",
       "26             6            0            0            0            6   \n",
       "66             5            2            0            0            0   \n",
       "68             0            0            0            0            3   \n",
       "78             0            0            0            0            0   \n",
       "102           28            0           22            0            1   \n",
       "\n",
       "     Week9_Stat1  Week9_Stat2  Week9_Stat3  Grade  \n",
       "26             2            0            0      2  \n",
       "66             0            0            0      4  \n",
       "68             0            0            0      0  \n",
       "78             0            0            0      0  \n",
       "102            0            0            0      0  \n",
       "\n",
       "[5 rows x 48 columns]"
      ]
     },
     "execution_count": 63,
     "metadata": {},
     "output_type": "execute_result"
    }
   ],
   "source": [
    "data = pd.read_csv(\"./data.csv\")\n",
    "data.sample(5)"
   ]
  },
  {
   "cell_type": "markdown",
   "id": "d8fd9aca-67c9-40da-b32d-23f433e08a7a",
   "metadata": {},
   "source": [
    "# Step-I Data Preprocessing"
   ]
  },
  {
   "cell_type": "markdown",
   "id": "ee2ecc7c-aa49-4011-83ff-e019314cd55c",
   "metadata": {},
   "source": [
    "## Missing Value Percentage\n",
    "As seen below, there is no missing value in any of the feature."
   ]
  },
  {
   "cell_type": "code",
   "execution_count": 64,
   "id": "d1cf28b4-d6bb-48b4-88f5-e112ab0d1a53",
   "metadata": {},
   "outputs": [
    {
     "data": {
      "text/plain": [
       "ID             0.0\n",
       "Week2_Quiz1    0.0\n",
       "Week3_MP1      0.0\n",
       "Week3_PR1      0.0\n",
       "Week5_MP2      0.0\n",
       "Week5_PR2      0.0\n",
       "Week7_MP3      0.0\n",
       "Week7_PR3      0.0\n",
       "Week4_Quiz2    0.0\n",
       "Week6_Quiz3    0.0\n",
       "Week8_Total    0.0\n",
       "Week1_Stat0    0.0\n",
       "Week1_Stat1    0.0\n",
       "Week1_Stat2    0.0\n",
       "Week1_Stat3    0.0\n",
       "Week2_Stat0    0.0\n",
       "Week2_Stat1    0.0\n",
       "Week2_Stat2    0.0\n",
       "Week2_Stat3    0.0\n",
       "Week3_Stat0    0.0\n",
       "Week3_Stat1    0.0\n",
       "Week3_Stat2    0.0\n",
       "Week3_Stat3    0.0\n",
       "Week4_Stat0    0.0\n",
       "Week4_Stat1    0.0\n",
       "Week4_Stat2    0.0\n",
       "Week4_Stat3    0.0\n",
       "Week5_Stat0    0.0\n",
       "Week5_Stat1    0.0\n",
       "Week5_Stat2    0.0\n",
       "Week5_Stat3    0.0\n",
       "Week6_Stat0    0.0\n",
       "Week6_Stat1    0.0\n",
       "Week6_Stat2    0.0\n",
       "Week6_Stat3    0.0\n",
       "Week7_Stat0    0.0\n",
       "Week7_Stat1    0.0\n",
       "Week7_Stat2    0.0\n",
       "Week7_Stat3    0.0\n",
       "Week8_Stat0    0.0\n",
       "Week8_Stat1    0.0\n",
       "Week8_Stat2    0.0\n",
       "Week8_Stat3    0.0\n",
       "Week9_Stat0    0.0\n",
       "Week9_Stat1    0.0\n",
       "Week9_Stat2    0.0\n",
       "Week9_Stat3    0.0\n",
       "Grade          0.0\n",
       "dtype: float64"
      ]
     },
     "execution_count": 64,
     "metadata": {},
     "output_type": "execute_result"
    }
   ],
   "source": [
    "data.isnull().sum() / data.shape[0] * 100"
   ]
  },
  {
   "cell_type": "markdown",
   "id": "d311c3fb-35cf-4cf7-9829-8516148212d9",
   "metadata": {},
   "source": [
    "Also, there is no row where all the values are `0`, meaning the student has not participated in the course."
   ]
  },
  {
   "cell_type": "code",
   "execution_count": 65,
   "id": "69c2ea4f-d412-4ca2-9f15-f1594a7b9b62",
   "metadata": {},
   "outputs": [
    {
     "data": {
      "text/plain": [
       "0"
      ]
     },
     "execution_count": 65,
     "metadata": {},
     "output_type": "execute_result"
    }
   ],
   "source": [
    "(data == 0).eq(0).all(axis=1).sum()"
   ]
  },
  {
   "cell_type": "markdown",
   "id": "2036819e-8938-408b-94c0-d5d926208e89",
   "metadata": {},
   "source": [
    "## Features"
   ]
  },
  {
   "cell_type": "code",
   "execution_count": 66,
   "id": "ed575a77-1a5d-4274-bdca-90bbe1a0f1b9",
   "metadata": {},
   "outputs": [
    {
     "name": "stdout",
     "output_type": "stream",
     "text": [
      "<class 'pandas.core.frame.DataFrame'>\n",
      "RangeIndex: 107 entries, 0 to 106\n",
      "Data columns (total 48 columns):\n",
      " #   Column       Non-Null Count  Dtype  \n",
      "---  ------       --------------  -----  \n",
      " 0   ID           107 non-null    object \n",
      " 1   Week2_Quiz1  107 non-null    float64\n",
      " 2   Week3_MP1    107 non-null    float64\n",
      " 3   Week3_PR1    107 non-null    float64\n",
      " 4   Week5_MP2    107 non-null    float64\n",
      " 5   Week5_PR2    107 non-null    float64\n",
      " 6   Week7_MP3    107 non-null    float64\n",
      " 7   Week7_PR3    107 non-null    float64\n",
      " 8   Week4_Quiz2  107 non-null    float64\n",
      " 9   Week6_Quiz3  107 non-null    float64\n",
      " 10  Week8_Total  107 non-null    float64\n",
      " 11  Week1_Stat0  107 non-null    int64  \n",
      " 12  Week1_Stat1  107 non-null    int64  \n",
      " 13  Week1_Stat2  107 non-null    int64  \n",
      " 14  Week1_Stat3  107 non-null    int64  \n",
      " 15  Week2_Stat0  107 non-null    int64  \n",
      " 16  Week2_Stat1  107 non-null    int64  \n",
      " 17  Week2_Stat2  107 non-null    int64  \n",
      " 18  Week2_Stat3  107 non-null    int64  \n",
      " 19  Week3_Stat0  107 non-null    int64  \n",
      " 20  Week3_Stat1  107 non-null    int64  \n",
      " 21  Week3_Stat2  107 non-null    int64  \n",
      " 22  Week3_Stat3  107 non-null    int64  \n",
      " 23  Week4_Stat0  107 non-null    int64  \n",
      " 24  Week4_Stat1  107 non-null    int64  \n",
      " 25  Week4_Stat2  107 non-null    int64  \n",
      " 26  Week4_Stat3  107 non-null    int64  \n",
      " 27  Week5_Stat0  107 non-null    int64  \n",
      " 28  Week5_Stat1  107 non-null    int64  \n",
      " 29  Week5_Stat2  107 non-null    int64  \n",
      " 30  Week5_Stat3  107 non-null    int64  \n",
      " 31  Week6_Stat0  107 non-null    int64  \n",
      " 32  Week6_Stat1  107 non-null    int64  \n",
      " 33  Week6_Stat2  107 non-null    int64  \n",
      " 34  Week6_Stat3  107 non-null    int64  \n",
      " 35  Week7_Stat0  107 non-null    int64  \n",
      " 36  Week7_Stat1  107 non-null    int64  \n",
      " 37  Week7_Stat2  107 non-null    int64  \n",
      " 38  Week7_Stat3  107 non-null    int64  \n",
      " 39  Week8_Stat0  107 non-null    int64  \n",
      " 40  Week8_Stat1  107 non-null    int64  \n",
      " 41  Week8_Stat2  107 non-null    int64  \n",
      " 42  Week8_Stat3  107 non-null    int64  \n",
      " 43  Week9_Stat0  107 non-null    int64  \n",
      " 44  Week9_Stat1  107 non-null    int64  \n",
      " 45  Week9_Stat2  107 non-null    int64  \n",
      " 46  Week9_Stat3  107 non-null    int64  \n",
      " 47  Grade        107 non-null    int64  \n",
      "dtypes: float64(10), int64(37), object(1)\n",
      "memory usage: 40.3+ KB\n"
     ]
    }
   ],
   "source": [
    "data.info()"
   ]
  },
  {
   "cell_type": "markdown",
   "id": "4a216c79-1f50-43c6-97d8-2d187e66b8b6",
   "metadata": {},
   "source": [
    "## Preliminary Feature Selection\n",
    "- `ID` is irrelevant for the prediction of final grade.\n",
    "- `Week8_Total` is just a aggregation of all the available grades in quizzes, mini-projects, and peer reviews. So, we can safely discard the feature. We could have discarded all the individual grades and kept the overall only. However, in that case it would not be possible to measure the impact of the grade of each assessment on the final grade."
   ]
  },
  {
   "cell_type": "code",
   "execution_count": 67,
   "id": "734c400f-8d56-4ca7-9b82-91c585e55e20",
   "metadata": {},
   "outputs": [
    {
     "data": {
      "text/html": [
       "<div>\n",
       "<style scoped>\n",
       "    .dataframe tbody tr th:only-of-type {\n",
       "        vertical-align: middle;\n",
       "    }\n",
       "\n",
       "    .dataframe tbody tr th {\n",
       "        vertical-align: top;\n",
       "    }\n",
       "\n",
       "    .dataframe thead th {\n",
       "        text-align: right;\n",
       "    }\n",
       "</style>\n",
       "<table border=\"1\" class=\"dataframe\">\n",
       "  <thead>\n",
       "    <tr style=\"text-align: right;\">\n",
       "      <th></th>\n",
       "      <th>Week2_Quiz1</th>\n",
       "      <th>Week3_MP1</th>\n",
       "      <th>Week3_PR1</th>\n",
       "      <th>Week5_MP2</th>\n",
       "      <th>Week5_PR2</th>\n",
       "      <th>Week7_MP3</th>\n",
       "      <th>Week7_PR3</th>\n",
       "      <th>Week4_Quiz2</th>\n",
       "      <th>Week6_Quiz3</th>\n",
       "      <th>Week1_Stat0</th>\n",
       "      <th>...</th>\n",
       "      <th>Week7_Stat3</th>\n",
       "      <th>Week8_Stat0</th>\n",
       "      <th>Week8_Stat1</th>\n",
       "      <th>Week8_Stat2</th>\n",
       "      <th>Week8_Stat3</th>\n",
       "      <th>Week9_Stat0</th>\n",
       "      <th>Week9_Stat1</th>\n",
       "      <th>Week9_Stat2</th>\n",
       "      <th>Week9_Stat3</th>\n",
       "      <th>Grade</th>\n",
       "    </tr>\n",
       "  </thead>\n",
       "  <tbody>\n",
       "    <tr>\n",
       "      <th>23</th>\n",
       "      <td>0.00</td>\n",
       "      <td>0.0</td>\n",
       "      <td>0.0</td>\n",
       "      <td>0.00</td>\n",
       "      <td>0.0</td>\n",
       "      <td>0.00</td>\n",
       "      <td>0.0</td>\n",
       "      <td>0.00</td>\n",
       "      <td>0.0</td>\n",
       "      <td>11</td>\n",
       "      <td>...</td>\n",
       "      <td>0</td>\n",
       "      <td>0</td>\n",
       "      <td>0</td>\n",
       "      <td>0</td>\n",
       "      <td>0</td>\n",
       "      <td>0</td>\n",
       "      <td>0</td>\n",
       "      <td>0</td>\n",
       "      <td>0</td>\n",
       "      <td>0</td>\n",
       "    </tr>\n",
       "    <tr>\n",
       "      <th>38</th>\n",
       "      <td>0.00</td>\n",
       "      <td>0.0</td>\n",
       "      <td>0.0</td>\n",
       "      <td>0.00</td>\n",
       "      <td>0.0</td>\n",
       "      <td>0.00</td>\n",
       "      <td>0.0</td>\n",
       "      <td>0.00</td>\n",
       "      <td>0.0</td>\n",
       "      <td>0</td>\n",
       "      <td>...</td>\n",
       "      <td>0</td>\n",
       "      <td>0</td>\n",
       "      <td>0</td>\n",
       "      <td>0</td>\n",
       "      <td>0</td>\n",
       "      <td>0</td>\n",
       "      <td>0</td>\n",
       "      <td>0</td>\n",
       "      <td>0</td>\n",
       "      <td>0</td>\n",
       "    </tr>\n",
       "    <tr>\n",
       "      <th>21</th>\n",
       "      <td>5.00</td>\n",
       "      <td>13.0</td>\n",
       "      <td>5.0</td>\n",
       "      <td>11.74</td>\n",
       "      <td>5.0</td>\n",
       "      <td>30.63</td>\n",
       "      <td>0.0</td>\n",
       "      <td>4.67</td>\n",
       "      <td>5.0</td>\n",
       "      <td>4</td>\n",
       "      <td>...</td>\n",
       "      <td>2</td>\n",
       "      <td>4</td>\n",
       "      <td>5</td>\n",
       "      <td>0</td>\n",
       "      <td>0</td>\n",
       "      <td>5</td>\n",
       "      <td>0</td>\n",
       "      <td>0</td>\n",
       "      <td>0</td>\n",
       "      <td>3</td>\n",
       "    </tr>\n",
       "    <tr>\n",
       "      <th>27</th>\n",
       "      <td>3.33</td>\n",
       "      <td>14.0</td>\n",
       "      <td>5.0</td>\n",
       "      <td>18.70</td>\n",
       "      <td>5.0</td>\n",
       "      <td>21.48</td>\n",
       "      <td>5.0</td>\n",
       "      <td>3.17</td>\n",
       "      <td>4.5</td>\n",
       "      <td>6</td>\n",
       "      <td>...</td>\n",
       "      <td>0</td>\n",
       "      <td>11</td>\n",
       "      <td>6</td>\n",
       "      <td>0</td>\n",
       "      <td>0</td>\n",
       "      <td>11</td>\n",
       "      <td>1</td>\n",
       "      <td>0</td>\n",
       "      <td>0</td>\n",
       "      <td>3</td>\n",
       "    </tr>\n",
       "    <tr>\n",
       "      <th>80</th>\n",
       "      <td>0.00</td>\n",
       "      <td>0.0</td>\n",
       "      <td>0.0</td>\n",
       "      <td>0.00</td>\n",
       "      <td>0.0</td>\n",
       "      <td>0.00</td>\n",
       "      <td>0.0</td>\n",
       "      <td>0.00</td>\n",
       "      <td>0.0</td>\n",
       "      <td>27</td>\n",
       "      <td>...</td>\n",
       "      <td>0</td>\n",
       "      <td>0</td>\n",
       "      <td>0</td>\n",
       "      <td>0</td>\n",
       "      <td>0</td>\n",
       "      <td>9</td>\n",
       "      <td>0</td>\n",
       "      <td>0</td>\n",
       "      <td>0</td>\n",
       "      <td>0</td>\n",
       "    </tr>\n",
       "  </tbody>\n",
       "</table>\n",
       "<p>5 rows × 46 columns</p>\n",
       "</div>"
      ],
      "text/plain": [
       "    Week2_Quiz1  Week3_MP1  Week3_PR1  Week5_MP2  Week5_PR2  Week7_MP3  \\\n",
       "23         0.00        0.0        0.0       0.00        0.0       0.00   \n",
       "38         0.00        0.0        0.0       0.00        0.0       0.00   \n",
       "21         5.00       13.0        5.0      11.74        5.0      30.63   \n",
       "27         3.33       14.0        5.0      18.70        5.0      21.48   \n",
       "80         0.00        0.0        0.0       0.00        0.0       0.00   \n",
       "\n",
       "    Week7_PR3  Week4_Quiz2  Week6_Quiz3  Week1_Stat0  ...  Week7_Stat3  \\\n",
       "23        0.0         0.00          0.0           11  ...            0   \n",
       "38        0.0         0.00          0.0            0  ...            0   \n",
       "21        0.0         4.67          5.0            4  ...            2   \n",
       "27        5.0         3.17          4.5            6  ...            0   \n",
       "80        0.0         0.00          0.0           27  ...            0   \n",
       "\n",
       "    Week8_Stat0  Week8_Stat1  Week8_Stat2  Week8_Stat3  Week9_Stat0  \\\n",
       "23            0            0            0            0            0   \n",
       "38            0            0            0            0            0   \n",
       "21            4            5            0            0            5   \n",
       "27           11            6            0            0           11   \n",
       "80            0            0            0            0            9   \n",
       "\n",
       "    Week9_Stat1  Week9_Stat2  Week9_Stat3  Grade  \n",
       "23            0            0            0      0  \n",
       "38            0            0            0      0  \n",
       "21            0            0            0      3  \n",
       "27            1            0            0      3  \n",
       "80            0            0            0      0  \n",
       "\n",
       "[5 rows x 46 columns]"
      ]
     },
     "execution_count": 67,
     "metadata": {},
     "output_type": "execute_result"
    }
   ],
   "source": [
    "data = data.drop(['ID', 'Week8_Total'], axis=1)\n",
    "data.sample(5)"
   ]
  },
  {
   "cell_type": "markdown",
   "id": "55a3df7b-d50b-4c8b-9154-a60565601511",
   "metadata": {},
   "source": [
    "## Categorizing Target Variable"
   ]
  },
  {
   "cell_type": "code",
   "execution_count": 68,
   "id": "218fedf7-e7fc-46bb-8a5f-61defdde857f",
   "metadata": {},
   "outputs": [],
   "source": [
    "data['Grade'] = data['Grade'].astype('category')"
   ]
  },
  {
   "cell_type": "markdown",
   "id": "5927e218-9a0a-4c11-8ec0-d804bbafa1d5",
   "metadata": {},
   "source": [
    "# Step-II Data Split\n",
    "\n",
    "The class distribution is imbalanced. So, we must use stratified sampling during split. We kept $20\\%$ data for testing and the rest of the $80\\%$ for training."
   ]
  },
  {
   "cell_type": "code",
   "execution_count": 72,
   "id": "c43aed7e-4f51-4782-a037-b96905b97476",
   "metadata": {},
   "outputs": [
    {
     "data": {
      "image/png": "[encoded data removed]",
      "text/plain": [
       "<Figure size 640x480 with 1 Axes>"
      ]
     },
     "metadata": {},
     "output_type": "display_data"
    }
   ],
   "source": [
    "sns.countplot(data['Grade'])\n",
    "plt.title(\"Grade Distribution\")\n",
    "plt.xlabel(\"Frequency\")\n",
    "plt.show()"
   ]
  },
  {
   "cell_type": "code",
   "execution_count": 73,
   "id": "a621f9ee-9184-481a-a19b-69291a43c593",
   "metadata": {},
   "outputs": [],
   "source": [
    "train_x, test_x, train_y, test_y = train_test_split(\n",
    "    data.drop(['Grade'], axis=1), data['Grade'], test_size=0.20, stratify=data['Grade'], random_state=25\n",
    ")"
   ]
  },
  {
   "cell_type": "code",
   "execution_count": 74,
   "id": "0be97234-6472-4ad4-aa3a-910b858d081c",
   "metadata": {},
   "outputs": [
    {
     "name": "stdout",
     "output_type": "stream",
     "text": [
      "(85, 45)\n",
      "(85,)\n",
      "(22, 45)\n",
      "(22,)\n"
     ]
    }
   ],
   "source": [
    "print(train_x.shape)\n",
    "print(train_y.shape)\n",
    "print(test_x.shape)\n",
    "print(test_y.shape)"
   ]
  },
  {
   "cell_type": "markdown",
   "id": "403b29e2-aff7-44b1-87bd-5cf2fceb1189",
   "metadata": {},
   "source": [
    "# Step-III Model Training\n",
    "\n",
    "The primary challenge of this dataset is the imbalance between the large number of features and the limited amount of data available. As a result, more complex models are likely to suffer from overfitting. To address this issue, the use of regularization is necessary to control model complexity and improve generalization.\n",
    "\n",
    "To mitigate overfitting, I propose employing both a simple and a complex model, with regularization applied as appropriate. For the simple model, I considered two options: Naive Bayes and K-Nearest Neighbors (KNN). However, KNN is not well-suited for high-dimensional data with a small number of data points, making Naive Bayes the more appropriate choice.\n",
    "\n",
    "For the complex model, I evaluated Logistic Regression, Decision Tree, and Support Vector Machine (SVM). While SVM is effective in handling high-dimensional data, I selected Decision Tree due to its interpretability. Although Logistic Regression and Decision Tree both support extensive regularization techniques to prevent overfitting, the Decision Tree model offers the additional advantage of producing easily interpretable results. I excluded Artificial Neural Networks (ANN) from consideration because they typically require large amounts of data to perform well.\n",
    "\n",
    "In summary, I have chosen Naive Bayes as the simple model and Decision Tree as the complex model, both of which are suitable given the dataset's characteristics and the need to prevent overfitting through regularization.\n",
    "\n",
    "\n",
    "\n",
    "\n",
    "\n",
    "\n"
   ]
  },
  {
   "cell_type": "markdown",
   "id": "55ea5f40-187c-45a2-97fd-f7451b4fc126",
   "metadata": {},
   "source": [
    "## Decision Tree"
   ]
  },
  {
   "cell_type": "code",
   "execution_count": 77,
   "id": "56cb1ac6-8337-490b-bc42-c85797806a48",
   "metadata": {},
   "outputs": [],
   "source": [
    "param_dist_dt = {\n",
    "    'max_depth': [None, 2, 5, 10, 20, 30, 40, 50], \n",
    "    'min_samples_split': np.arange(2, 20, 2),\n",
    "    'min_samples_leaf': np.arange(1, 20, 2),\n",
    "    'criterion': ['gini', 'entropy']\n",
    "}"
   ]
  },
  {
   "cell_type": "code",
   "execution_count": 86,
   "id": "1d980972-7f33-439a-9eed-db7f17c973b2",
   "metadata": {},
   "outputs": [],
   "source": [
    "dt_classifier = DecisionTreeClassifier()\n",
    "random_search_dt = RandomizedSearchCV(\n",
    "    dt_classifier, \n",
    "    param_distributions=param_dist_dt, \n",
    "    n_iter=100, \n",
    "    cv=5, \n",
    "    verbose=1, \n",
    "    random_state=42, \n",
    "    n_jobs=-1,\n",
    "    scoring='f1_macro'\n",
    ")"
   ]
  },
  {
   "cell_type": "code",
   "execution_count": 87,
   "id": "1498192f-7b82-4866-9b0e-6b0248038980",
   "metadata": {},
   "outputs": [
    {
     "name": "stdout",
     "output_type": "stream",
     "text": [
      "Fitting 5 folds for each of 100 candidates, totalling 500 fits\n"
     ]
    },
    {
     "name": "stderr",
     "output_type": "stream",
     "text": [
      "/opt/homebrew/anaconda3/lib/python3.12/site-packages/sklearn/model_selection/_split.py:776: UserWarning: The least populated class in y has only 4 members, which is less than n_splits=5.\n",
      "  warnings.warn(\n"
     ]
    },
    {
     "name": "stdout",
     "output_type": "stream",
     "text": [
      "Best parameters for Decision Tree: {'min_samples_split': 10, 'min_samples_leaf': 5, 'max_depth': 20, 'criterion': 'entropy'}\n"
     ]
    }
   ],
   "source": [
    "random_search_dt.fit(train_x, train_y)\n",
    "print(\"Best parameters for Decision Tree:\", random_search_dt.best_params_)"
   ]
  },
  {
   "cell_type": "code",
   "execution_count": 88,
   "id": "2d6fa78e-f2b5-448b-ba7d-e7a8d77699bb",
   "metadata": {},
   "outputs": [
    {
     "data": {
      "text/plain": [
       "mean_fit_time                                                       0.001084\n",
       "std_fit_time                                                        0.000321\n",
       "mean_score_time                                                     0.001733\n",
       "std_score_time                                                      0.001617\n",
       "param_min_samples_split                                                   10\n",
       "param_min_samples_leaf                                                     5\n",
       "param_max_depth                                                           20\n",
       "param_criterion                                                      entropy\n",
       "params                     {'min_samples_split': 10, 'min_samples_leaf': ...\n",
       "split0_test_score                                                   0.785714\n",
       "split1_test_score                                                   0.580952\n",
       "split2_test_score                                                       0.32\n",
       "split3_test_score                                                   0.664286\n",
       "split4_test_score                                                   0.813333\n",
       "mean_test_score                                                     0.632857\n",
       "std_test_score                                                      0.177481\n",
       "rank_test_score                                                            1\n",
       "Name: 69, dtype: object"
      ]
     },
     "execution_count": 88,
     "metadata": {},
     "output_type": "execute_result"
    }
   ],
   "source": [
    "pd.DataFrame(random_search_dt.cv_results_).iloc[random_search_dt.best_index_]"
   ]
  },
  {
   "cell_type": "code",
   "execution_count": 104,
   "id": "f38d401e-01d4-4835-b954-e6f5b93975a5",
   "metadata": {},
   "outputs": [
    {
     "data": {
      "image/png": "[encoded data removed]",
      "text/plain": [
       "<Figure size 640x480 with 1 Axes>"
      ]
     },
     "metadata": {},
     "output_type": "display_data"
    }
   ],
   "source": [
    "sns.heatmap(confusion_matrix(random_search_dt.best_estimator_.predict(train_x), train_y), annot=True, cbar=False)\n",
    "plt.title(\"Confusion Matrix for Decision Tree (Training Data)\")\n",
    "plt.xlabel(\"Actual Grades\")\n",
    "plt.ylabel(\"Predicted Grades\")\n",
    "plt.show()"
   ]
  },
  {
   "cell_type": "markdown",
   "id": "171dff31-8041-4d9e-9ace-bd0d61f3d94b",
   "metadata": {},
   "source": [
    "## Naive Bayes"
   ]
  },
  {
   "cell_type": "code",
   "execution_count": 90,
   "id": "99fd4ead-89ce-46aa-a4c8-1f468dccc751",
   "metadata": {},
   "outputs": [],
   "source": [
    "param_dist_gnb = {\n",
    "    'var_smoothing': np.logspace(0, -9, num=100)\n",
    "}"
   ]
  },
  {
   "cell_type": "code",
   "execution_count": 91,
   "id": "5ec2b258-61f7-42f3-9273-f8eb70024935",
   "metadata": {},
   "outputs": [],
   "source": [
    "gnb_classifier = GaussianNB()\n",
    "random_search_gnb = RandomizedSearchCV(\n",
    "    gnb_classifier, \n",
    "    param_distributions=param_dist_gnb, \n",
    "    n_iter=100, \n",
    "    cv=5, \n",
    "    verbose=1, \n",
    "    random_state=42, \n",
    "    n_jobs=-1,\n",
    "    scoring='f1_macro'\n",
    ")"
   ]
  },
  {
   "cell_type": "code",
   "execution_count": 92,
   "id": "f0c27db3-0b52-4393-8217-715b433db75e",
   "metadata": {},
   "outputs": [
    {
     "name": "stdout",
     "output_type": "stream",
     "text": [
      "Fitting 5 folds for each of 100 candidates, totalling 500 fits\n"
     ]
    },
    {
     "name": "stderr",
     "output_type": "stream",
     "text": [
      "/opt/homebrew/anaconda3/lib/python3.12/site-packages/sklearn/model_selection/_split.py:776: UserWarning: The least populated class in y has only 4 members, which is less than n_splits=5.\n",
      "  warnings.warn(\n"
     ]
    },
    {
     "name": "stdout",
     "output_type": "stream",
     "text": [
      "Best parameters for Naive Bayes: {'var_smoothing': 0.0001519911082952933}\n"
     ]
    }
   ],
   "source": [
    "random_search_gnb.fit(train_x, train_y)\n",
    "print(\"Best parameters for Naive Bayes:\", random_search_gnb.best_params_)"
   ]
  },
  {
   "cell_type": "code",
   "execution_count": 93,
   "id": "54241bc7-0473-4a39-8577-06a50f0c28dc",
   "metadata": {},
   "outputs": [
    {
     "data": {
      "text/plain": [
       "mean_fit_time                                          0.001617\n",
       "std_fit_time                                           0.000752\n",
       "mean_score_time                                        0.002911\n",
       "std_score_time                                         0.001817\n",
       "param_var_smoothing                                    0.000152\n",
       "params                 {'var_smoothing': 0.0001519911082952933}\n",
       "split0_test_score                                      0.684524\n",
       "split1_test_score                                      0.493853\n",
       "split2_test_score                                          0.43\n",
       "split3_test_score                                      0.378901\n",
       "split4_test_score                                      0.645455\n",
       "mean_test_score                                        0.526546\n",
       "std_test_score                                         0.119403\n",
       "rank_test_score                                               1\n",
       "Name: 42, dtype: object"
      ]
     },
     "execution_count": 93,
     "metadata": {},
     "output_type": "execute_result"
    }
   ],
   "source": [
    "pd.DataFrame(random_search_gnb.cv_results_).iloc[random_search_gnb.best_index_]"
   ]
  },
  {
   "cell_type": "code",
   "execution_count": 103,
   "id": "f826627e-7cfe-4c96-a7c8-4ec90f0ab7dd",
   "metadata": {},
   "outputs": [
    {
     "data": {
      "image/png": "[encoded data removed]",
      "text/plain": [
       "<Figure size 640x480 with 1 Axes>"
      ]
     },
     "metadata": {},
     "output_type": "display_data"
    }
   ],
   "source": [
    "sns.heatmap(confusion_matrix(random_search_gnb.best_estimator_.predict(train_x), train_y), annot=True, cbar=False)\n",
    "plt.title(\"Confusion Matrix for Naive Bayes (Training Data)\")\n",
    "plt.xlabel(\"Actual Grades\")\n",
    "plt.ylabel(\"Predicted Grades\")\n",
    "plt.show()"
   ]
  },
  {
   "cell_type": "markdown",
   "id": "bc99a957-18cd-44f1-9e1b-8bce52eab21c",
   "metadata": {},
   "source": [
    "## Model Selection\n",
    "Since the data is imbalanced, `accuracy` would not be a good measure for comparing models. I could use either `precision` or `recall`. Instead I used `F1-Score` to maximize both.\n",
    "\n",
    "I employed a randomized search technique to find the best set of hyperparameters that reduce overfitting on the validation set. The best model of Decision Tree provided an average F1 Score of $0.63\\pm0.18$. On the other hand, the best Naive Bayes model had an average F1 Socre of $0.53\\pm0.12$.\n",
    "\n",
    "There might be several reasons for Decision Tree to perform better than Naive Bayes. For example, Decision Trees are adept at capturing complex, non-linear relationships and feature interactions. If your dataset contains features that interact with each other in a non-trivial way, the Decision Tree could model these interactions more effectively. In contrast, Naive Bayes assumes conditional independence between features, meaning it does not model interactions between them. If your features are not independent, Naive Bayes would likely perform worse. From our dataset, it is obvious that the features have interactions between them. Another reason might be that it was possible to regularize decision tree by tuning different hyperparameters. However, Naive Bayes is often a high bias model with simplistic assumptions. "
   ]
  },
  {
   "cell_type": "markdown",
   "id": "40b70aa8-34d0-4e6f-b787-60c3a12915a7",
   "metadata": {},
   "source": [
    "# Step-IV Performance Evaluation"
   ]
  },
  {
   "cell_type": "code",
   "execution_count": 105,
   "id": "7dfafd67-e351-41dd-b34d-cd634468df14",
   "metadata": {},
   "outputs": [],
   "source": [
    "predictions  = random_search_dt.best_estimator_.predict(test_x)"
   ]
  },
  {
   "cell_type": "code",
   "execution_count": 106,
   "id": "df684f5a-acb4-44a6-a36b-c85f330a6fa9",
   "metadata": {},
   "outputs": [
    {
     "data": {
      "image/png": "[encoded data removed]",
      "text/plain": [
       "<Figure size 640x480 with 1 Axes>"
      ]
     },
     "metadata": {},
     "output_type": "display_data"
    }
   ],
   "source": [
    "sns.heatmap(confusion_matrix(predictions, test_y), annot=True, cbar=False)\n",
    "plt.title(\"Confusion Matrix\")\n",
    "plt.xlabel(\"Actual Grades\")\n",
    "plt.ylabel(\"Predicted Grades\")\n",
    "plt.show()"
   ]
  },
  {
   "cell_type": "code",
   "execution_count": 109,
   "id": "38be2ff1-2e58-461d-bfff-95bbf66d9f1b",
   "metadata": {},
   "outputs": [
    {
     "name": "stdout",
     "output_type": "stream",
     "text": [
      "              precision    recall  f1-score   support\n",
      "\n",
      "           0       1.00      0.91      0.95        11\n",
      "           2       0.00       nan      0.00         0\n",
      "           3       1.00      0.75      0.86         4\n",
      "           4       0.80      1.00      0.89         4\n",
      "           5       0.67      0.67      0.67         3\n",
      "\n",
      "    accuracy                           0.86        22\n",
      "   macro avg       0.69      0.83      0.67        22\n",
      "weighted avg       0.92      0.86      0.88        22\n",
      "\n"
     ]
    }
   ],
   "source": [
    "print(classification_report(predictions, test_y, zero_division=np.nan))"
   ]
  },
  {
   "cell_type": "markdown",
   "id": "6415a3ba-be6b-433a-ad72-dc8a63a12c18",
   "metadata": {},
   "source": [
    "# Step-V Feature Importance"
   ]
  },
  {
   "cell_type": "markdown",
   "id": "2b029da3-4890-4ea3-9898-b262cd82577a",
   "metadata": {},
   "source": [
    "## Decision Tree Feature Rankings"
   ]
  },
  {
   "cell_type": "code",
   "execution_count": 112,
   "id": "3e218d6e-916d-4a9f-8c7a-b33ffa119730",
   "metadata": {},
   "outputs": [],
   "source": [
    "model = random_search_dt.best_estimator_\n",
    "importance_df = pd.DataFrame({\n",
    "    'Feature': train_x.columns,\n",
    "    'Importance': model.feature_importances_\n",
    "})"
   ]
  },
  {
   "cell_type": "code",
   "execution_count": 114,
   "id": "8da6c655-0c90-4a71-b076-7b75749bb405",
   "metadata": {},
   "outputs": [
    {
     "data": {
      "image/png": "[encoded data removed]",
      "text/plain": [
       "<Figure size 1000x600 with 1 Axes>"
      ]
     },
     "metadata": {},
     "output_type": "display_data"
    }
   ],
   "source": [
    "importance_df = importance_df.sort_values(by='Importance', ascending=False)\n",
    "importance_df = importance_df[importance_df['Importance'] > 0]\n",
    "\n",
    "plt.figure(figsize=(10, 6))\n",
    "plt.barh(importance_df['Feature'], importance_df['Importance'], color='skyblue')\n",
    "plt.xlabel('Feature Importance')\n",
    "plt.title('Feature Importance in Decision Tree')\n",
    "plt.gca().invert_yaxis()\n",
    "plt.show()"
   ]
  },
  {
   "cell_type": "markdown",
   "id": "b34d8fc9-e974-4329-89c1-8ba0abb1bff1",
   "metadata": {},
   "source": [
    "It seems that only $4$ features were actually used to predict the final grades."
   ]
  }
 ],
 "metadata": {
  "kernelspec": {
   "display_name": "Python 3 (ipykernel)",
   "language": "python",
   "name": "python3"
  },
  "language_info": {
   "codemirror_mode": {
    "name": "ipython",
    "version": 3
   },
   "file_extension": ".py",
   "mimetype": "text/x-python",
   "name": "python",
   "nbconvert_exporter": "python",
   "pygments_lexer": "ipython3",
   "version": "3.12.4"
  }
 },
 "nbformat": 4,
 "nbformat_minor": 5
}
